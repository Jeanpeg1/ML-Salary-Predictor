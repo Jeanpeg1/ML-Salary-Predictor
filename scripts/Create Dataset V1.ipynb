{
 "cells": [
  {
   "cell_type": "code",
   "execution_count": 1,
   "id": "e0272467-d3ef-49a6-9170-b7a7d0b6f7f3",
   "metadata": {},
   "outputs": [
    {
     "name": "stdout",
     "output_type": "stream",
     "text": [
      "Dataset berhasil dibuat: salary_data.csv\n",
      "   age        city   education    salary\n",
      "0   58  Yogyakarta         PhD  16377000\n",
      "1   48    Surabaya         PhD  19344000\n",
      "2   34    Surabaya         PhD  18322000\n",
      "3   27     Jakarta  Highschool   5768000\n",
      "4   40       Medan         PhD  16545000\n"
     ]
    }
   ],
   "source": [
    "import pandas as pd\n",
    "import numpy as np\n",
    "\n",
    "#Atur random seet agar hasil konsisten\n",
    "np.random.seed(42)\n",
    "\n",
    "#jumlah data\n",
    "n = 500\n",
    "\n",
    "#Generate umur acak (rentang 20-60 tahun)\n",
    "age = np.random.randint(20, 61, n)\n",
    "\n",
    "# Pilihan kota\n",
    "cities = [\"Jakarta\", \"Bandung\", \"Surabaya\", \"Medan\", \"Yogyakarta\"]\n",
    "city = np.random.choice(cities, n)\n",
    "\n",
    "# Pilihan pendidikan\n",
    "educations = [\"Highschool\", \"Bachelor\", \"Master\", \"PhD\"]\n",
    "education = np.random.choice(educations, n)\n",
    "\n",
    "# Buat salary dengan formula sederhana\n",
    "# Base salary tergantung education\n",
    "edu_salary_map = {\n",
    "    \"Highschool\": 4_000_000,\n",
    "    \"Bachelor\": 7_000_000,\n",
    "    \"Master\": 10_000_000,\n",
    "    \"PhD\": 14_000_000\n",
    "}\n",
    "\n",
    "# Tambahkan faktor kota\n",
    "city_factor = {\n",
    "    \"Jakarta\": 1.3,\n",
    "    \"Bandung\": 1.1,\n",
    "    \"Surabaya\": 1.15,\n",
    "    \"Medan\": 1.05,\n",
    "    \"Yogyakarta\": 0.9\n",
    "}\n",
    "\n",
    "# Hitung salary\n",
    "salary = []\n",
    "for a, c, e in zip(age, city, education):\n",
    "    base = edu_salary_map[e]\n",
    "    # umur nambah penghasilan ±100k per tahun di atas 20\n",
    "    age_bonus = (a - 20) * 100_000\n",
    "    # faktor kota\n",
    "    c_factor = city_factor[c]\n",
    "    # tambah sedikit random noise\n",
    "    noise = np.random.normal(0, 500_000)\n",
    "    sal = (base + age_bonus) * c_factor + noise\n",
    "    salary.append(max(3_000_000, sal))  # jangan sampai gaji terlalu kecil\n",
    "\n",
    "# Buat dataframe\n",
    "df = pd.DataFrame({\n",
    "    \"age\": age,\n",
    "    \"city\": city,\n",
    "    \"education\": education,\n",
    "    \"salary\": np.round(salary, -3).astype(int)  # dibulatkan ribuan\n",
    "})\n",
    "\n",
    "# Simpan ke CSV\n",
    "df.to_csv(\"salary_data.csv\", index=False)\n",
    "\n",
    "print(\"Dataset berhasil dibuat: salary_data.csv\")\n",
    "print(df.head())"
   ]
  },
  {
   "cell_type": "code",
   "execution_count": null,
   "id": "c0c76057-2b14-47a8-83e8-7556d40f9aef",
   "metadata": {},
   "outputs": [],
   "source": []
  }
 ],
 "metadata": {
  "kernelspec": {
   "display_name": "Python [conda env:base] *",
   "language": "python",
   "name": "conda-base-py"
  },
  "language_info": {
   "codemirror_mode": {
    "name": "ipython",
    "version": 3
   },
   "file_extension": ".py",
   "mimetype": "text/x-python",
   "name": "python",
   "nbconvert_exporter": "python",
   "pygments_lexer": "ipython3",
   "version": "3.13.5"
  }
 },
 "nbformat": 4,
 "nbformat_minor": 5
}
